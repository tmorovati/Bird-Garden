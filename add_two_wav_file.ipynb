{
 "cells": [
  {
   "cell_type": "code",
   "execution_count": 4,
   "metadata": {},
   "outputs": [
    {
     "data": {
      "text/plain": [
       "44100"
      ]
     },
     "execution_count": 4,
     "metadata": {},
     "output_type": "execute_result"
    }
   ],
   "source": [
    "signal_add = \"C:/My_Document/University_Courses/papers/IPM-started@Tir25th/python-code/Theunissen/AdultVocalizations/randomly_selected_files/accumulated_audio.wav\"\n",
    "noise_add = \"C:/My_Document/University_Courses/papers/IPM-started@Tir25th/python-code/Theunissen/noise/OOFFICE/audiocheck.net_bluenoise.wav\"\n",
    "root = \"C:/My_Document/University_Courses/papers/IPM-started@Tir25th/python-code/Theunissen/\"\n",
    "\n",
    "from pydub import AudioSegment\n",
    "from pydub.playback import play  \n",
    "\n",
    "\n",
    "signal = AudioSegment.from_wav(signal_add)\n",
    "noise = AudioSegment.from_wav(noise_add)\n",
    "\n",
    "\n",
    "\n",
    "\"\"\" noisy = signal.overlay(noise) \n",
    "dest = root + \"/noisy.wav\"\n",
    "noisy.export(dest , format='wav') \"\"\"\n",
    "#play(noisy)\n",
    "signal.frame_rate"
   ]
  }
 ],
 "metadata": {
  "kernelspec": {
   "display_name": "Python 3",
   "language": "python",
   "name": "python3"
  },
  "language_info": {
   "codemirror_mode": {
    "name": "ipython",
    "version": 3
   },
   "file_extension": ".py",
   "mimetype": "text/x-python",
   "name": "python",
   "nbconvert_exporter": "python",
   "pygments_lexer": "ipython3",
   "version": "3.10.10"
  },
  "orig_nbformat": 4
 },
 "nbformat": 4,
 "nbformat_minor": 2
}
