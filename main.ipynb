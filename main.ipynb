{
 "cells": [
  {
   "attachments": {},
   "cell_type": "markdown",
   "metadata": {},
   "source": [
    "# REFERENCE \n",
    "\n",
    "[1] https://deepgram.com/learn/best-python-audio-manipulation-tools\n",
    "\n",
    "[2] https://www.geeksforgeeks.org/how-to-concatenate-audio-files-in-python/\n",
    "\n",
    "[3] https://stackoverflow.com/questions/51826044/transition-between-audiosegment-object-and-a-wave-file-data\n",
    "\n",
    "[4] https://www.geeksforgeeks.org/how-to-concatenate-audio-files-in-python/\n",
    "\n",
    "[5] https://medium.com/analytics-vidhya/adding-noise-to-audio-clips-5d8cee24ccb8\n",
    "\n",
    "\n",
    "\n"
   ]
  },
  {
   "attachments": {},
   "cell_type": "markdown",
   "metadata": {},
   "source": [
    "# use 10 percent of Theunissen Data RANDOMLY"
   ]
  },
  {
   "attachments": {},
   "cell_type": "markdown",
   "metadata": {},
   "source": [
    "## Adult or Juvenile\n",
    "\n",
    "in this part we make decision on which folder is appropreate to use, Adult data or juvenile one."
   ]
  },
  {
   "cell_type": "code",
   "execution_count": 3,
   "metadata": {},
   "outputs": [],
   "source": [
    "init_address = \"C:/My_Document/University_Courses/papers/IPM-started@Tir25th/python-code/Theunissen\"\n",
    "\n",
    "\"\"\" prompt = \" Juvenile = 1 , Adult = 0\"\n",
    "ad_or_juven = input(prompt) \"\"\"\n",
    "\n",
    "ad_or_juven = 0 \n",
    "\n",
    "\n",
    "def adult_or_juvenile(input):\n",
    "    if input == 0 : \n",
    "        address = init_address + \"/AdultVocalizations\"\n",
    "    elif input == 1 :\n",
    "        address = init_address + \"/ChickVocalizations\"\n",
    "    else :\n",
    "        print(\"wrong input entered\")\n",
    "    return address \n",
    "\n",
    "    "
   ]
  },
  {
   "attachments": {},
   "cell_type": "markdown",
   "metadata": {},
   "source": [
    "## randomly select m files and move them into the new directory\n",
    "\n",
    "I want to write a function to modulate this application, assume we have N files in specific directory, we want to make a new folder in the same directory and randomly select M files out of N (N > M) and copy the selected files into the new folder. in this function we do this.\n",
    "\n",
    "First of all, we specify the number of M and N. N is a fixed value based on the base directory, and M is 10 percent of the \n",
    "\n",
    "**before this there are multiple things to do:\n",
    "1. change the code in a way that can read all the audio file's formats.\n",
    "1. make downloading the dataset automatic**\n",
    "\n",
    "\n",
    "## what is wav files and why do we use it? [1]\n",
    "\n",
    "There’s one well known way to represent sound - using waves. However, computers can represent that data in many ways. The most common audio data file types are .wav and .mp3. The main difference between .wav and .mp3 files is that .wav files are not compressed and .mp3 files are. This makes .wav files great for when you need the highest quality audio and .mp3 files best when you need fast streaming."
   ]
  },
  {
   "cell_type": "code",
   "execution_count": 4,
   "metadata": {},
   "outputs": [
    {
     "name": "stdout",
     "output_type": "stream",
     "text": [
      "Successfully copied 297 random WAV files to C:/My_Document/University_Courses/papers/IPM-started@Tir25th/python-code/Theunissen/AdultVocalizations/randomly_selected_files\n"
     ]
    },
    {
     "data": {
      "text/plain": [
       "'C:/My_Document/University_Courses/papers/IPM-started@Tir25th/python-code/Theunissen/AdultVocalizations/randomly_selected_files'"
      ]
     },
     "execution_count": 4,
     "metadata": {},
     "output_type": "execute_result"
    }
   ],
   "source": [
    "import os \n",
    "import random \n",
    "import shutil \n",
    "import wave\n",
    "\n",
    "\n",
    "address = adult_or_juvenile(ad_or_juven) \n",
    "source_address = address\n",
    "\n",
    "# N is the number of the files in the directory \n",
    "N = len(os.listdir(address))\n",
    "# M is equal to the 10 percent of the total files\n",
    "M = int(N * 0.1)\n",
    "\n",
    "def copy_m_random_wav_files(source, m):\n",
    "    \n",
    "    # Get a list of all WAV files in the source directory\n",
    "    wav_files = [file for file in os.listdir(source) if file.endswith(\".wav\")]\n",
    "    \n",
    "    # Randomly select m files\n",
    "    selected_files = random.sample(wav_files, m)\n",
    "    \n",
    "    \"\"\"     # store framerate for following applications\n",
    "    source_path = source_address + str(f'/{wav_files[0]}')\n",
    "    with wave.open(source_path, 'rb') as file:\n",
    "        framerate = file.getframerate() \"\"\"\n",
    "        \n",
    "    # Create output directory\n",
    "    destination = source + \"/randomly_selected_files\" \n",
    "    if not os.path.exists(destination):\n",
    "        os.makedirs(destination, mode=0o777)\n",
    "        \n",
    "    for file in selected_files: \n",
    "        source_path = os.path.join(source, file)\n",
    "        destination_path = os.path.join(destination, file)\n",
    "        # to avoid adding to the directory multiple times\n",
    "        if len(os.listdir(destination)) < M  :\n",
    "            shutil.copyfile(source_path, destination_path)\n",
    "        \n",
    "    print(f\"Successfully copied {m} random WAV files to {destination}\")\n",
    "    return destination , selected_files \n",
    "\n",
    "\n",
    "destination, selected_files  = copy_m_random_wav_files(source_address, M)\n",
    "\n",
    "destination"
   ]
  },
  {
   "attachments": {},
   "cell_type": "markdown",
   "metadata": {},
   "source": [
    "## add different wav files to each other in python(Concatinate Audio Files)\n",
    "[2][3][4]"
   ]
  },
  {
   "cell_type": "code",
   "execution_count": 5,
   "metadata": {},
   "outputs": [],
   "source": [
    "import os \n",
    "import random \n",
    "import shutil \n",
    "import wave\n",
    "\n",
    "#destination = 'C:/My_Document/University_Courses/papers/IPM-started@Tir25th/python-code/Theunissen/AdultVocalizations/randomly_selected_files'"
   ]
  },
  {
   "cell_type": "code",
   "execution_count": 14,
   "metadata": {},
   "outputs": [],
   "source": [
    "from pydub import AudioSegment \n",
    "from pydub.playback import play \n",
    "from scipy.io.wavfile import read\n",
    "import matplotlib.pyplot as plt\n",
    "\n",
    "\n",
    "def merge_m_wave_files(input_directory):\n",
    "    \n",
    "    # define an empty audio file [3]\n",
    "    accumulated_audio = AudioSegment.empty()\n",
    "    \n",
    "    for file in os.listdir(input_directory):\n",
    "        \n",
    "        if str(file).endswith(\"wav\"):\n",
    "            wav_path = input_directory + str(f\"/{file}\")\n",
    "            audio = AudioSegment.from_wav(wav_path)\n",
    "            accumulated_audio = accumulated_audio.append(audio , crossfade=0)\n",
    "            \n",
    "    dest_path = input_directory  + \"/accumulated_audio.wav\"\n",
    "    accumulated_audio.export(dest_path, format='wav', cover='C:/My_Document/University_Courses/papers/IPM-started@Tir25th/python-code/Theunissen/AdultVocalizations/randomly_selected_files/zf.jpg')\n",
    "    return accumulated_audio\n",
    "    \n",
    "accumulated_audio = merge_m_wave_files(destination)\n",
    "\n"
   ]
  },
  {
   "attachments": {},
   "cell_type": "markdown",
   "metadata": {},
   "source": [
    "## play the accumulated Audio file\n",
    "make sure to install pyaudio before running this line of code, \n",
    "to install it on pip you can run this command\n",
    "**!pip install pyaudio**"
   ]
  },
  {
   "cell_type": "code",
   "execution_count": 7,
   "metadata": {},
   "outputs": [
    {
     "name": "stdout",
     "output_type": "stream",
     "text": [
      "you have interrupted playing Audio file\n"
     ]
    }
   ],
   "source": [
    "try : \n",
    "    play(accumulated_audio)\n",
    "except KeyboardInterrupt : \n",
    "    print(\"you have interrupted playing Audio file\")\n",
    "except:\n",
    "    print(\"sth else went wrong\")                       "
   ]
  },
  {
   "attachments": {},
   "cell_type": "markdown",
   "metadata": {},
   "source": [
    "## Add noise to the accumulated Audio file\n",
    "\n",
    "We describe 2 types of noises that can be added to audio data\n",
    "\n",
    "* Additive White Gaussian Noise (AWGN)\n",
    "* Real world noises\n",
    "[5]\n",
    "\n",
    "### Additive Gaussian Noise"
   ]
  },
  {
   "cell_type": "code",
   "execution_count": 11,
   "metadata": {},
   "outputs": [],
   "source": [
    "from pydub.generators import WhiteNoise\n",
    "\n",
    "noise = WhiteNoise().to_audio_segment(duration=len(accumulated_audio))\n",
    "\n",
    "noisy_accumulated_audio = accumulated_audio.overlay(noise)\n",
    "# save audio file\n",
    "#noisy_accumulated_audio.export(destination, format='wav')\n"
   ]
  },
  {
   "cell_type": "code",
   "execution_count": null,
   "metadata": {},
   "outputs": [],
   "source": [
    "\n",
    "try : \n",
    "    play(noisy_accumulated_audio)\n",
    "except KeyboardInterrupt : \n",
    "    print(\"you have interrupted playing Audio file\")\n",
    "except:\n",
    "    print(\"sth else went wrong\") "
   ]
  }
 ],
 "metadata": {
  "kernelspec": {
   "display_name": "Python 3",
   "language": "python",
   "name": "python3"
  },
  "language_info": {
   "codemirror_mode": {
    "name": "ipython",
    "version": 3
   },
   "file_extension": ".py",
   "mimetype": "text/x-python",
   "name": "python",
   "nbconvert_exporter": "python",
   "pygments_lexer": "ipython3",
   "version": "3.10.10"
  },
  "orig_nbformat": 4
 },
 "nbformat": 4,
 "nbformat_minor": 2
}
